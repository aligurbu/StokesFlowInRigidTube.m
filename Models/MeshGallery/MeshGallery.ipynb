{
 "cells": [
  {
   "cell_type": "markdown",
   "metadata": {},
   "source": [
    "# Mesh Gallery"
   ]
  },
  {
   "cell_type": "markdown",
   "metadata": {},
   "source": [
    "### Cylindrical models with 16 elements around the circumference\n",
    "----"
   ]
  },
  {
   "cell_type": "markdown",
   "metadata": {},
   "source": [
    "#### ShortMicrocapillary_16El"
   ]
  },
  {
   "cell_type": "markdown",
   "metadata": {},
   "source": [
    "Geometry of mesh. Nodes depicted by red dots and the unit normal vector pointing outward\n",
    "\n",
    "|3D view| XY-view|\n",
    "| :-: | :-: |\n",
    "|<img src=\"ShortMicrocapillary_16El_Patch.svg\">|<img src=\"ShortMicrocapillary_16El_Plot.svg\">|"
   ]
  },
  {
   "cell_type": "markdown",
   "metadata": {},
   "source": [
    "##### Mesh features\n",
    "The length of the vessel is equal to the circumference.\n",
    "\n",
    "| Diameter | Length | # of elements | # of nodes |\n",
    "| :-: | :-: | :-: | :-: |\n",
    "| 10 $\\mu$m (3.5481)| 31.4159 $\\mu$m (11.1466) | 384 | 1538 |\n",
    "\n",
    "The values inside the parantheses are for non-dimensional values."
   ]
  },
  {
   "cell_type": "markdown",
   "metadata": {},
   "source": [
    "----\n",
    "#### RefinedConstrictedVessel_16El"
   ]
  },
  {
   "cell_type": "markdown",
   "metadata": {},
   "source": [
    "Geometry of mesh\n",
    "\n",
    "|3D view| XY-view|\n",
    "| :-: | :-: |\n",
    "|<img src=\"RefinedConstrictedVessel_16El_Patch.svg\">|<img src=\"RefinedConstrictedVessel_16El_Patch_XY.svg\">|"
   ]
  },
  {
   "cell_type": "markdown",
   "metadata": {},
   "source": [
    "##### Mesh features\n",
    "The length of the vessel is equal to the twice of circumference at the inlet.\n",
    "\n",
    "| Inlet Dia. | Constriction Dia. | Outlet Dia. | Length | # of elements | # of nodes |\n",
    "| :-: | :-: | :-: | :-: | :-: | :-: |\n",
    "| 10 $\\mu$m (3.5481)| 5 $\\mu$m (1.7740)| 10 $\\mu$m (3.5481)| 62.83 $\\mu$m (22.2932) | 896 | 3586 |\n",
    "\n",
    "The values inside the parantheses are for non-dimensional values.\n",
    "\n",
    "- The constricted part discretized by finer mesh."
   ]
  },
  {
   "cell_type": "markdown",
   "metadata": {},
   "source": [
    "----\n",
    "#### LongConstrictedVessel_16El"
   ]
  },
  {
   "cell_type": "markdown",
   "metadata": {},
   "source": [
    "Geometry of mesh\n",
    "\n",
    "|3D view| XY-view|\n",
    "| :-: | :-: |\n",
    "|<img src=\"LongConstrictedVessel_16El_Patch.svg\">|<img src=\"LongConstrictedVessel_16El_Patch_XY.svg\">|"
   ]
  },
  {
   "cell_type": "markdown",
   "metadata": {},
   "source": [
    "##### Mesh features\n",
    "The length of the vessel is equal to the twice of circumference at the inlet.\n",
    "\n",
    "| Inlet Dia. | Constriction Dia. | Outlet Dia. | Length | # of elements | # of nodes |\n",
    "| :-: | :-: | :-: | :-: | :-: | :-: |\n",
    "| 10 $\\mu$m (3.5481)| 5 $\\mu$m (1.7740)| 10 $\\mu$m (3.5481)| 62.83 $\\mu$m (22.2932) | 896 | 3586 |\n",
    "\n",
    "The values inside the parantheses are for non-dimensional values.\n",
    "\n",
    "- The constricted part discretized by finer mesh"
   ]
  }
 ],
 "metadata": {
  "kernelspec": {
   "display_name": "Julia 1.6.0",
   "language": "julia",
   "name": "julia-1.6"
  },
  "language_info": {
   "file_extension": ".jl",
   "mimetype": "application/julia",
   "name": "julia",
   "version": "1.6.0"
  }
 },
 "nbformat": 4,
 "nbformat_minor": 4
}
